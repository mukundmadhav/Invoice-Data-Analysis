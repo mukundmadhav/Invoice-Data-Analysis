{
 "cells": [
  {
   "cell_type": "markdown",
   "metadata": {},
   "source": [
    "### Import Libraries"
   ]
  },
  {
   "cell_type": "code",
   "execution_count": 22,
   "metadata": {},
   "outputs": [],
   "source": [
    "from pdfminer.pdfinterp import PDFResourceManager, PDFPageInterpreter\n",
    "from pdfminer.converter import TextConverter\n",
    "from pdfminer.layout import LAParams\n",
    "from pdfminer.pdfpage import PDFPage\n",
    "from io import StringIO\n",
    "from docx2pdf import convert\n",
    "import pprint\n",
    "import sqlite3"
   ]
  },
  {
   "cell_type": "markdown",
   "metadata": {},
   "source": [
    "### Extract information from text"
   ]
  },
  {
   "cell_type": "code",
   "execution_count": 18,
   "metadata": {},
   "outputs": [],
   "source": [
    "def getInvoiceInfo(path):\n",
    "    '''\n",
    "    Get invoice info from pdf/doc for standard invoices \n",
    "    '''\n",
    "    #Convert doc -> pdf\n",
    "    if path.endswith('.doc'):\n",
    "        path = 'output.pdf'\n",
    "        convert('path', path)\n",
    "        \n",
    "    #init params\n",
    "    rsrcmgr = PDFResourceManager()\n",
    "    retstr = StringIO()\n",
    "    codec = 'utf-8'\n",
    "    laparams = LAParams()\n",
    "    device = TextConverter(rsrcmgr, retstr,  laparams=laparams)\n",
    "    fp = open(path, 'rb')\n",
    "    interpreter = PDFPageInterpreter(rsrcmgr, device)\n",
    "    password = \"\"\n",
    "    maxpages = 0\n",
    "    caching = True\n",
    "    pagenos=set()\n",
    "    \n",
    "    \n",
    "    #Read pdf\n",
    "    for page in PDFPage.get_pages(fp, pagenos, maxpages=maxpages, password=password,caching=caching, check_extractable=True):\n",
    "        interpreter.process_page(page)\n",
    "\n",
    "    text = retstr.getvalue()\n",
    "\n",
    "    fp.close()\n",
    "    device.close()\n",
    "    retstr.close()\n",
    "    \n",
    "    #Text pre processing\n",
    "    \n",
    "    #Get all the items as list without any empty strings\n",
    "    text = list(filter(None, text.split('\\n')))\n",
    "    \n",
    "    #Text Features\n",
    "    \n",
    "    features = {}\n",
    "    \n",
    "    features['Invoice Number'] = text[text.index('Invoice Number') + 3]\n",
    "    features['Due Date'] = text[text.index('Due Date') + 5]\n",
    "    features['Rate/Price'] = text[text.index('Rate/Price') + 1]\n",
    "    features['Total'] = text[text.index('Rate/Price') + 2]\n",
    "\n",
    "    \n",
    "    return features"
   ]
  },
  {
   "cell_type": "code",
   "execution_count": 37,
   "metadata": {},
   "outputs": [
    {
     "name": "stdout",
     "output_type": "stream",
     "text": [
      "{'Due Date': 'January 31, 2016',\n",
      " 'Invoice Number': 'Due Date',\n",
      " 'Rate/Price': '$85.00',\n",
      " 'Total': 'Adjust'}\n"
     ]
    }
   ],
   "source": [
    "data = getInvoiceInfo('sample.pdf')\n",
    "pprint.pprint(data)"
   ]
  },
  {
   "cell_type": "markdown",
   "metadata": {},
   "source": [
    "Insert the data in a table"
   ]
  },
  {
   "cell_type": "code",
   "execution_count": 28,
   "metadata": {},
   "outputs": [],
   "source": [
    "def createConnection(db_file):\n",
    "    \"\"\" create a database connection to the SQLite database\n",
    "        specified by db_file\n",
    "    :param db_file: database file\n",
    "    :return: Connection object or None\n",
    "    \"\"\"\n",
    "    conn = None\n",
    "    try:\n",
    "        conn = sqlite3.connect(db_file)\n",
    "    except Error as e:\n",
    "        print(e)\n",
    "\n",
    "    return conn"
   ]
  },
  {
   "cell_type": "code",
   "execution_count": 38,
   "metadata": {},
   "outputs": [],
   "source": [
    "def handleDictData(features):\n",
    "    print(features)\n",
    "    outputData = {}\n",
    "    outputData['invoice_num'] = features['Invoice Number']\n",
    "    outputData['due_date'] = features['Due Date'] \n",
    "    outputData['rate'] = features['Rate/Price']\n",
    "    outputData['total'] = features['Total']\n",
    "    return outputData"
   ]
  },
  {
   "cell_type": "code",
   "execution_count": 44,
   "metadata": {},
   "outputs": [
    {
     "name": "stdout",
     "output_type": "stream",
     "text": [
      "{'Invoice Number': 'Due Date', 'Due Date': 'January 31, 2016', 'Rate/Price': '$85.00', 'Total': 'Adjust'}\n"
     ]
    }
   ],
   "source": [
    "# We can insert data this way\n",
    "conn = createConnection('test.db')\n",
    "cursor = conn.cursor()\n",
    "\n",
    "hData = handleDictData(data)\n",
    "\n",
    "placeholders = ', '.join(['%s'] * len(hData))\n",
    "columns = ', '.join(hData.keys())\n",
    "table = 'invoice'\n",
    "sql = \"INSERT INTO %s ( %s ) VALUES ( %s )\" % (table, columns, placeholders)\n",
    "\n",
    "cursor.execute(sql, list(hData.values()))\n",
    "conn.commit()"
   ]
  },
  {
   "cell_type": "markdown",
   "metadata": {},
   "source": [
    "<b>If the PDF contains images, we can use the model defined in the second notebook to extract text and process information</b>"
   ]
  }
 ],
 "metadata": {
  "kernelspec": {
   "display_name": "Python 3",
   "language": "python",
   "name": "python3"
  },
  "language_info": {
   "codemirror_mode": {
    "name": "ipython",
    "version": 3
   },
   "file_extension": ".py",
   "mimetype": "text/x-python",
   "name": "python",
   "nbconvert_exporter": "python",
   "pygments_lexer": "ipython3",
   "version": "3.8.3"
  }
 },
 "nbformat": 4,
 "nbformat_minor": 4
}
